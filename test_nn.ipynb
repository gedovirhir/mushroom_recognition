{
 "cells": [
  {
   "cell_type": "code",
   "execution_count": null,
   "metadata": {},
   "outputs": [],
   "source": [
    "import torch\n",
    "import matplotlib.pyplot as plt\n",
    "import torch.nn as nn\n",
    "import torch.nn.functional as F\n",
    "import numpy as np\n",
    "import torchvision.transforms as T\n",
    "import random\n",
    "\n",
    "from torch.utils.data import DataLoader, random_split, Subset\n",
    "from torchvision import datasets, transforms\n",
    "from torchvision.utils import make_grid\n",
    "from torch.optim import Adam, SGD, lr_scheduler\n",
    "from torch.autograd import Variable\n",
    "\n",
    "from random import randint, shuffle\n",
    "\n",
    "from PIL import ImageFile\n",
    "ImageFile.LOAD_TRUNCATED_IMAGES = True"
   ]
  },
  {
   "cell_type": "code",
   "execution_count": null,
   "metadata": {},
   "outputs": [],
   "source": [
    "def imageshow(img):\n",
    "    npimg = img.numpy()\n",
    "    plt.imshow(np.transpose(npimg, (1, 2, 0)))\n",
    "    plt.show()"
   ]
  },
  {
   "cell_type": "code",
   "execution_count": null,
   "metadata": {},
   "outputs": [],
   "source": [
    "d_mean = [0.485, 0.456, 0.406]\n",
    "t_std = [0.229, 0.224, 0.225]\n",
    "transform = transforms.Compose([\n",
    "    transforms.Resize(100),\n",
    "    transforms.CenterCrop(100),\n",
    "    transforms.ToTensor(),\n",
    "    #transforms.Normalize(d_mean, t_std),\n",
    "    #transforms.Normalize((0.5, 0.5, 0.5), (0.5, 0.5, 0.5)),\n",
    "])"
   ]
  },
  {
   "cell_type": "code",
   "execution_count": null,
   "metadata": {},
   "outputs": [],
   "source": [
    "N_CLASSES = 9\n",
    "class mush_rec_nn_old(nn.Module):\n",
    "    def __init__(self):\n",
    "        super(mush_rec_nn_old, self).__init__()\n",
    "        \n",
    "        k_s = 3\n",
    "        pad = 0\n",
    "\n",
    "        self.cnn1 = nn.Conv2d(in_channels=3, out_channels=12, kernel_size=k_s, stride=1, padding=pad)\n",
    "        self.pool1 = nn.MaxPool2d(2)\n",
    "        self.bn1 = nn.BatchNorm2d(12)\n",
    "        \n",
    "        self.cnn2 = nn.Conv2d(in_channels=12, out_channels=24, kernel_size=k_s, stride=1, padding=pad)\n",
    "        self.pool2 = nn.MaxPool2d(2)\n",
    "        self.bn2 = nn.BatchNorm2d(24)\n",
    "        \n",
    "        self.cnn3 = nn.Conv2d(in_channels=24, out_channels=48, kernel_size=k_s, stride=1, padding=pad)\n",
    "        self.pool3 = nn.MaxPool2d(2)\n",
    "        self.bn3 = nn.BatchNorm2d(48)\n",
    "        \n",
    "        self.cnn4 = nn.Conv2d(in_channels=48, out_channels=96, kernel_size=k_s, stride=1, padding=pad)\n",
    "        self.pool4 = nn.MaxPool2d(2)\n",
    "        self.bn4 = nn.BatchNorm2d(96)\n",
    "        \n",
    "        self.cnn5 = nn.Conv2d(in_channels=96, out_channels=192, kernel_size=k_s, stride=1, padding=pad)\n",
    "        self.pool5 = nn.MaxPool2d(2)\n",
    "        self.bn5 = nn.BatchNorm2d(192)\n",
    "        \n",
    "        linr = 192 * 1 * 1\n",
    "        linr2 = linr\n",
    "        self.fc1 = nn.Linear(linr, linr)\n",
    "        self.fc2 = nn.Linear(linr, 192)\n",
    "        self.dp1 = nn.Dropout(0.3)\n",
    "        self.fc3 = nn.Linear(192, N_CLASSES)\n",
    "    \n",
    "    def forward(self, input):\n",
    "        output = self.pool1(F.relu(self.bn1(self.cnn1(input))))\n",
    "        output = self.pool2(F.relu(self.bn2(self.cnn2(output))))  \n",
    "        output = self.pool3(F.relu(self.bn3(self.cnn3(output))))\n",
    "        output = self.pool4(F.relu(self.bn4(self.cnn4(output))))  \n",
    "        output = self.pool5(F.relu(self.bn5(self.cnn5(output))))\n",
    "        \n",
    "        output = output.view(-1, 192 * 1 * 1)\n",
    "        \n",
    "        output = F.relu(self.fc1(output))\n",
    "        output = F.relu(self.fc2(output))\n",
    "        output = self.dp1(output)\n",
    "        output = self.fc3(output)\n",
    "\n",
    "        return output\n",
    "\n",
    "class mush_rec_nn(nn.Module):\n",
    "    def __init__(self):\n",
    "        super(mush_rec_nn, self).__init__()\n",
    "        \n",
    "        k_s = 3\n",
    "        pad = 0\n",
    "\n",
    "        self.cnn1 = nn.Conv2d(in_channels=3, out_channels=24, kernel_size=k_s, stride=1, padding=pad)\n",
    "        self.pool1 = nn.MaxPool2d(2)\n",
    "        self.bn1 = nn.BatchNorm2d(24)\n",
    "        \n",
    "        self.cnn2 = nn.Conv2d(in_channels=24, out_channels=48, kernel_size=k_s, stride=1, padding=pad)\n",
    "        self.pool2 = nn.MaxPool2d(2)\n",
    "        self.bn2 = nn.BatchNorm2d(48)\n",
    "        \n",
    "        self.cnn3 = nn.Conv2d(in_channels=48, out_channels=96, kernel_size=k_s, stride=1, padding=pad)\n",
    "        self.pool3 = nn.MaxPool2d(2)\n",
    "        self.bn3 = nn.BatchNorm2d(96)\n",
    "        \n",
    "        self.cnn4 = nn.Conv2d(in_channels=96, out_channels=192, kernel_size=k_s, stride=1, padding=pad)\n",
    "        self.pool4 = nn.MaxPool2d(2)\n",
    "        self.bn4 = nn.BatchNorm2d(192)\n",
    "        \n",
    "        self.cnn5 = nn.Conv2d(in_channels=192, out_channels=384, kernel_size=k_s, stride=1, padding=pad)\n",
    "        self.pool5 = nn.MaxPool2d(2)\n",
    "        self.bn5 = nn.BatchNorm2d(384)\n",
    "        \n",
    "        linr = 384 * 1 * 1\n",
    "        linr2 = linr\n",
    "        self.fc1 = nn.Linear(linr, linr)\n",
    "        self.fc2 = nn.Linear(linr, 384)\n",
    "        self.dp1 = nn.Dropout(0.3)\n",
    "        self.fc3 = nn.Linear(384, N_CLASSES)\n",
    "    \n",
    "    def forward(self, input):\n",
    "        output = self.pool1(F.relu(self.bn1(self.cnn1(input))))\n",
    "        output = self.pool2(F.relu(self.bn2(self.cnn2(output))))  \n",
    "        output = self.pool3(F.relu(self.bn3(self.cnn3(output))))\n",
    "        output = self.pool4(F.relu(self.bn4(self.cnn4(output))))  \n",
    "        output = self.pool5(F.relu(self.bn5(self.cnn5(output))))\n",
    "        \n",
    "        output = output.view(-1, 384 * 1 * 1)\n",
    "        \n",
    "        output = F.relu(self.fc1(output))\n",
    "        output = self.fc2(output)\n",
    "        output = self.dp1(output)\n",
    "        output = self.fc3(output)\n",
    "\n",
    "        return output\n",
    "model = mush_rec_nn()"
   ]
  },
  {
   "cell_type": "code",
   "execution_count": null,
   "metadata": {},
   "outputs": [],
   "source": [
    "path = './mush_rec_model_same_75%.pth'\n",
    "path1 = './mush_rec_model_50%.pth'\n",
    "model.load_state_dict(torch.load(path))\n",
    "model.eval()"
   ]
  },
  {
   "cell_type": "code",
   "execution_count": null,
   "metadata": {},
   "outputs": [],
   "source": [
    "img = Image.open('./training_set_t/Suillus/029_6_sz5LSbyBQ.jpg')\n",
    "\n",
    "img = transform(img)\n",
    "imageshow(img)\n",
    "img = img[None,:]\n",
    "img.shape"
   ]
  },
  {
   "cell_type": "code",
   "execution_count": null,
   "metadata": {},
   "outputs": [],
   "source": [
    "\n",
    "dataset_ = datasets.ImageFolder('training_set_t', transform=transform)\n",
    "N_CLASSES = len(dataset_.classes)\n",
    "classes = dataset_.classes\n",
    "print(dataset_.classes)"
   ]
  },
  {
   "cell_type": "code",
   "execution_count": null,
   "metadata": {},
   "outputs": [],
   "source": [
    "train_set, val_set = random_split(dataset_, [0.8, 0.2])\n",
    "trainloader, valloader = DataLoader(train_set, batch_size=64, shuffle=True), DataLoader(val_set, batch_size=64)"
   ]
  },
  {
   "cell_type": "code",
   "execution_count": null,
   "metadata": {},
   "outputs": [],
   "source": [
    "def test_batch():\n",
    "    for data in valloader:\n",
    "        images, labels = data\n",
    "\n",
    "        outputs = model(images)\n",
    "\n",
    "        _, predicted = torch.max(outputs.data, 1)\n",
    "\n",
    "        for i, r_l, p_l in zip(range(len(images)), labels, predicted):\n",
    "            if True:#r_l == p_l:\n",
    "                imageshow(images[i])\n",
    "                print(f\"REAL: {classes[r_l]}, {r_l}\")\n",
    "                print(f\"PREDICTED: {classes[p_l]}, {p_l}\")\n",
    "        break\n",
    "\n",
    "def test_img():\n",
    "    outputs = model(img)\n",
    "    _, predicted = torch.max(outputs.data, 1)\n",
    "    \n",
    "    print(f\"PREDICTED: {classes[predicted[0]]}\")"
   ]
  },
  {
   "cell_type": "code",
   "execution_count": null,
   "metadata": {},
   "outputs": [],
   "source": [
    "test_batch()"
   ]
  }
 ],
 "metadata": {
  "kernelspec": {
   "display_name": "Python 3.9.10 64-bit",
   "language": "python",
   "name": "python3"
  },
  "language_info": {
   "codemirror_mode": {
    "name": "ipython",
    "version": 3
   },
   "file_extension": ".py",
   "mimetype": "text/x-python",
   "name": "python",
   "nbconvert_exporter": "python",
   "pygments_lexer": "ipython3",
   "version": "3.9.10"
  },
  "orig_nbformat": 4,
  "vscode": {
   "interpreter": {
    "hash": "4fee5f00e471604f138b2a95ee5c96a7fea853470284bcce1030f4018e4910da"
   }
  }
 },
 "nbformat": 4,
 "nbformat_minor": 2
}
