{
 "cells": [
  {
   "cell_type": "code",
   "execution_count": 1,
   "metadata": {},
   "outputs": [],
   "source": [
    "import torch\n",
    "import matplotlib.pyplot as plt\n",
    "import torch.nn as nn\n",
    "import torch.nn.functional as F\n",
    "import numpy as np\n",
    "import torchvision.transforms as T\n",
    "import random\n",
    "import os\n",
    "\n",
    "from torch.utils.data import DataLoader, random_split, Subset\n",
    "from torchvision import datasets, transforms\n",
    "from torchvision.utils import make_grid\n",
    "from torch.optim import Adam, SGD, lr_scheduler\n",
    "from torch.autograd import Variable\n",
    "\n",
    "from random import randint, shuffle\n",
    "\n",
    "from PIL import ImageFile, Image\n",
    "ImageFile.LOAD_TRUNCATED_IMAGES = True"
   ]
  },
  {
   "cell_type": "code",
   "execution_count": 2,
   "metadata": {},
   "outputs": [],
   "source": [
    "classes = ['Agaricus', 'Amanita', 'Boletus', 'Cortinarius', 'Entoloma', 'Hygrocybe', 'Lactarius', 'Russula', 'Suillus']"
   ]
  },
  {
   "cell_type": "code",
   "execution_count": 3,
   "metadata": {},
   "outputs": [],
   "source": [
    "def imageshow(img):\n",
    "    npimg = img.numpy()\n",
    "    plt.imshow(np.transpose(npimg, (1, 2, 0)))\n",
    "    plt.show()"
   ]
  },
  {
   "cell_type": "code",
   "execution_count": 4,
   "metadata": {},
   "outputs": [],
   "source": [
    "d_mean = [0.485, 0.456, 0.406]\n",
    "t_std = [0.229, 0.224, 0.225]\n",
    "transform = transforms.Compose([\n",
    "    transforms.Resize(100),\n",
    "    transforms.CenterCrop(100),\n",
    "    transforms.ToTensor(),\n",
    "    #transforms.Normalize(d_mean, t_std),\n",
    "    #transforms.Normalize((0.5, 0.5, 0.5), (0.5, 0.5, 0.5)),\n",
    "])"
   ]
  },
  {
   "cell_type": "code",
   "execution_count": 5,
   "metadata": {},
   "outputs": [],
   "source": [
    "N_CLASSES = 9\n",
    "class mush_rec_nn_old(nn.Module):\n",
    "    def __init__(self):\n",
    "        super(mush_rec_nn_old, self).__init__()\n",
    "        \n",
    "        k_s = 3\n",
    "        pad = 0\n",
    "\n",
    "        self.cnn1 = nn.Conv2d(in_channels=3, out_channels=12, kernel_size=k_s, stride=1, padding=pad)\n",
    "        self.pool1 = nn.MaxPool2d(2)\n",
    "        self.bn1 = nn.BatchNorm2d(12)\n",
    "        \n",
    "        self.cnn2 = nn.Conv2d(in_channels=12, out_channels=24, kernel_size=k_s, stride=1, padding=pad)\n",
    "        self.pool2 = nn.MaxPool2d(2)\n",
    "        self.bn2 = nn.BatchNorm2d(24)\n",
    "        \n",
    "        self.cnn3 = nn.Conv2d(in_channels=24, out_channels=48, kernel_size=k_s, stride=1, padding=pad)\n",
    "        self.pool3 = nn.MaxPool2d(2)\n",
    "        self.bn3 = nn.BatchNorm2d(48)\n",
    "        \n",
    "        self.cnn4 = nn.Conv2d(in_channels=48, out_channels=96, kernel_size=k_s, stride=1, padding=pad)\n",
    "        self.pool4 = nn.MaxPool2d(2)\n",
    "        self.bn4 = nn.BatchNorm2d(96)\n",
    "        \n",
    "        self.cnn5 = nn.Conv2d(in_channels=96, out_channels=192, kernel_size=k_s, stride=1, padding=pad)\n",
    "        self.pool5 = nn.MaxPool2d(2)\n",
    "        self.bn5 = nn.BatchNorm2d(192)\n",
    "        \n",
    "        linr = 192 * 1 * 1\n",
    "        linr2 = linr\n",
    "        self.fc1 = nn.Linear(linr, linr)\n",
    "        self.fc2 = nn.Linear(linr, 192)\n",
    "        self.dp1 = nn.Dropout(0.3)\n",
    "        self.fc3 = nn.Linear(192, N_CLASSES)\n",
    "    \n",
    "    def forward(self, input):\n",
    "        output = self.pool1(F.relu(self.bn1(self.cnn1(input))))\n",
    "        output = self.pool2(F.relu(self.bn2(self.cnn2(output))))  \n",
    "        output = self.pool3(F.relu(self.bn3(self.cnn3(output))))\n",
    "        output = self.pool4(F.relu(self.bn4(self.cnn4(output))))  \n",
    "        output = self.pool5(F.relu(self.bn5(self.cnn5(output))))\n",
    "        \n",
    "        output = output.view(-1, 192 * 1 * 1)\n",
    "        \n",
    "        output = F.relu(self.fc1(output))\n",
    "        output = F.relu(self.fc2(output))\n",
    "        output = self.dp1(output)\n",
    "        output = self.fc3(output)\n",
    "\n",
    "        return output\n",
    "\n",
    "class mush_rec_nn(nn.Module):\n",
    "    def __init__(self):\n",
    "        super(mush_rec_nn, self).__init__()\n",
    "        \n",
    "        k_s = 3\n",
    "        pad = 0\n",
    "\n",
    "        self.cnn1 = nn.Conv2d(in_channels=3, out_channels=24, kernel_size=k_s, stride=1, padding=pad)\n",
    "        self.pool1 = nn.MaxPool2d(2)\n",
    "        self.bn1 = nn.BatchNorm2d(24)\n",
    "        \n",
    "        self.cnn2 = nn.Conv2d(in_channels=24, out_channels=48, kernel_size=k_s, stride=1, padding=pad)\n",
    "        self.pool2 = nn.MaxPool2d(2)\n",
    "        self.bn2 = nn.BatchNorm2d(48)\n",
    "        \n",
    "        self.cnn3 = nn.Conv2d(in_channels=48, out_channels=96, kernel_size=k_s, stride=1, padding=pad)\n",
    "        self.pool3 = nn.MaxPool2d(2)\n",
    "        self.bn3 = nn.BatchNorm2d(96)\n",
    "        \n",
    "        self.cnn4 = nn.Conv2d(in_channels=96, out_channels=192, kernel_size=k_s, stride=1, padding=pad)\n",
    "        self.pool4 = nn.MaxPool2d(2)\n",
    "        self.bn4 = nn.BatchNorm2d(192)\n",
    "        \n",
    "        self.cnn5 = nn.Conv2d(in_channels=192, out_channels=384, kernel_size=k_s, stride=1, padding=pad)\n",
    "        self.pool5 = nn.MaxPool2d(2)\n",
    "        self.bn5 = nn.BatchNorm2d(384)\n",
    "        \n",
    "        linr = 384 * 1 * 1\n",
    "        linr2 = linr\n",
    "        self.fc1 = nn.Linear(linr, linr)\n",
    "        self.fc2 = nn.Linear(linr, 384)\n",
    "        self.dp1 = nn.Dropout(0.3)\n",
    "        self.fc3 = nn.Linear(384, N_CLASSES)\n",
    "    \n",
    "    def forward(self, input):\n",
    "        output = self.pool1(F.relu(self.bn1(self.cnn1(input))))\n",
    "        output = self.pool2(F.relu(self.bn2(self.cnn2(output))))  \n",
    "        output = self.pool3(F.relu(self.bn3(self.cnn3(output))))\n",
    "        output = self.pool4(F.relu(self.bn4(self.cnn4(output))))  \n",
    "        output = self.pool5(F.relu(self.bn5(self.cnn5(output))))\n",
    "        \n",
    "        output = output.view(-1, 384 * 1 * 1)\n",
    "        \n",
    "        output = F.relu(self.fc1(output))\n",
    "        output = self.fc2(output)\n",
    "        output = self.dp1(output)\n",
    "        output = self.fc3(output)\n",
    "\n",
    "        return output\n",
    "model = mush_rec_nn()"
   ]
  },
  {
   "cell_type": "code",
   "execution_count": 6,
   "metadata": {},
   "outputs": [
    {
     "data": {
      "text/plain": [
       "mush_rec_nn(\n",
       "  (cnn1): Conv2d(3, 24, kernel_size=(3, 3), stride=(1, 1))\n",
       "  (pool1): MaxPool2d(kernel_size=2, stride=2, padding=0, dilation=1, ceil_mode=False)\n",
       "  (bn1): BatchNorm2d(24, eps=1e-05, momentum=0.1, affine=True, track_running_stats=True)\n",
       "  (cnn2): Conv2d(24, 48, kernel_size=(3, 3), stride=(1, 1))\n",
       "  (pool2): MaxPool2d(kernel_size=2, stride=2, padding=0, dilation=1, ceil_mode=False)\n",
       "  (bn2): BatchNorm2d(48, eps=1e-05, momentum=0.1, affine=True, track_running_stats=True)\n",
       "  (cnn3): Conv2d(48, 96, kernel_size=(3, 3), stride=(1, 1))\n",
       "  (pool3): MaxPool2d(kernel_size=2, stride=2, padding=0, dilation=1, ceil_mode=False)\n",
       "  (bn3): BatchNorm2d(96, eps=1e-05, momentum=0.1, affine=True, track_running_stats=True)\n",
       "  (cnn4): Conv2d(96, 192, kernel_size=(3, 3), stride=(1, 1))\n",
       "  (pool4): MaxPool2d(kernel_size=2, stride=2, padding=0, dilation=1, ceil_mode=False)\n",
       "  (bn4): BatchNorm2d(192, eps=1e-05, momentum=0.1, affine=True, track_running_stats=True)\n",
       "  (cnn5): Conv2d(192, 384, kernel_size=(3, 3), stride=(1, 1))\n",
       "  (pool5): MaxPool2d(kernel_size=2, stride=2, padding=0, dilation=1, ceil_mode=False)\n",
       "  (bn5): BatchNorm2d(384, eps=1e-05, momentum=0.1, affine=True, track_running_stats=True)\n",
       "  (fc1): Linear(in_features=384, out_features=384, bias=True)\n",
       "  (fc2): Linear(in_features=384, out_features=384, bias=True)\n",
       "  (dp1): Dropout(p=0.3, inplace=False)\n",
       "  (fc3): Linear(in_features=384, out_features=9, bias=True)\n",
       ")"
      ]
     },
     "execution_count": 6,
     "metadata": {},
     "output_type": "execute_result"
    }
   ],
   "source": [
    "path = './mush_rec_model_same_75%.pth'\n",
    "path1 = './mush_rec_model_50%.pth'\n",
    "model.load_state_dict(torch.load(path))\n",
    "model.eval()"
   ]
  },
  {
   "cell_type": "code",
   "execution_count": 7,
   "metadata": {},
   "outputs": [
    {
     "ename": "NameError",
     "evalue": "name 'Image' is not defined",
     "output_type": "error",
     "traceback": [
      "\u001b[1;31m---------------------------------------------------------------------------\u001b[0m",
      "\u001b[1;31mNameError\u001b[0m                                 Traceback (most recent call last)",
      "Cell \u001b[1;32mIn[7], line 1\u001b[0m\n\u001b[1;32m----> 1\u001b[0m img \u001b[39m=\u001b[39m Image\u001b[39m.\u001b[39mopen(\u001b[39m'\u001b[39m\u001b[39m./training_set_t/Suillus/029_6_sz5LSbyBQ.jpg\u001b[39m\u001b[39m'\u001b[39m)\n\u001b[0;32m      3\u001b[0m img \u001b[39m=\u001b[39m transform(img)\n\u001b[0;32m      4\u001b[0m imageshow(img)\n",
      "\u001b[1;31mNameError\u001b[0m: name 'Image' is not defined"
     ]
    }
   ],
   "source": [
    "img = Image.open('./training_set_t/Suillus/029_6_sz5LSbyBQ.jpg')\n",
    "\n",
    "img = transform(img)\n",
    "imageshow(img)\n",
    "img = img[None,:]\n",
    "img.shape"
   ]
  },
  {
   "cell_type": "code",
   "execution_count": 8,
   "metadata": {},
   "outputs": [
    {
     "ename": "FileNotFoundError",
     "evalue": "[WinError 3] Системе не удается найти указанный путь: 'training_set_t'",
     "output_type": "error",
     "traceback": [
      "\u001b[1;31m---------------------------------------------------------------------------\u001b[0m",
      "\u001b[1;31mFileNotFoundError\u001b[0m                         Traceback (most recent call last)",
      "Cell \u001b[1;32mIn[8], line 1\u001b[0m\n\u001b[1;32m----> 1\u001b[0m dataset_ \u001b[39m=\u001b[39m datasets\u001b[39m.\u001b[39;49mImageFolder(\u001b[39m'\u001b[39;49m\u001b[39mtraining_set_t\u001b[39;49m\u001b[39m'\u001b[39;49m, transform\u001b[39m=\u001b[39;49mtransform)\n\u001b[0;32m      2\u001b[0m N_CLASSES \u001b[39m=\u001b[39m \u001b[39mlen\u001b[39m(dataset_\u001b[39m.\u001b[39mclasses)\n\u001b[0;32m      3\u001b[0m classes \u001b[39m=\u001b[39m dataset_\u001b[39m.\u001b[39mclasses\n",
      "File \u001b[1;32mc:\\Users\\nikit\\AppData\\Local\\Programs\\Python\\Python310\\lib\\site-packages\\torchvision\\datasets\\folder.py:309\u001b[0m, in \u001b[0;36mImageFolder.__init__\u001b[1;34m(self, root, transform, target_transform, loader, is_valid_file)\u001b[0m\n\u001b[0;32m    301\u001b[0m \u001b[39mdef\u001b[39;00m \u001b[39m__init__\u001b[39m(\n\u001b[0;32m    302\u001b[0m     \u001b[39mself\u001b[39m,\n\u001b[0;32m    303\u001b[0m     root: \u001b[39mstr\u001b[39m,\n\u001b[1;32m   (...)\u001b[0m\n\u001b[0;32m    307\u001b[0m     is_valid_file: Optional[Callable[[\u001b[39mstr\u001b[39m], \u001b[39mbool\u001b[39m]] \u001b[39m=\u001b[39m \u001b[39mNone\u001b[39;00m,\n\u001b[0;32m    308\u001b[0m ):\n\u001b[1;32m--> 309\u001b[0m     \u001b[39msuper\u001b[39;49m()\u001b[39m.\u001b[39;49m\u001b[39m__init__\u001b[39;49m(\n\u001b[0;32m    310\u001b[0m         root,\n\u001b[0;32m    311\u001b[0m         loader,\n\u001b[0;32m    312\u001b[0m         IMG_EXTENSIONS \u001b[39mif\u001b[39;49;00m is_valid_file \u001b[39mis\u001b[39;49;00m \u001b[39mNone\u001b[39;49;00m \u001b[39melse\u001b[39;49;00m \u001b[39mNone\u001b[39;49;00m,\n\u001b[0;32m    313\u001b[0m         transform\u001b[39m=\u001b[39;49mtransform,\n\u001b[0;32m    314\u001b[0m         target_transform\u001b[39m=\u001b[39;49mtarget_transform,\n\u001b[0;32m    315\u001b[0m         is_valid_file\u001b[39m=\u001b[39;49mis_valid_file,\n\u001b[0;32m    316\u001b[0m     )\n\u001b[0;32m    317\u001b[0m     \u001b[39mself\u001b[39m\u001b[39m.\u001b[39mimgs \u001b[39m=\u001b[39m \u001b[39mself\u001b[39m\u001b[39m.\u001b[39msamples\n",
      "File \u001b[1;32mc:\\Users\\nikit\\AppData\\Local\\Programs\\Python\\Python310\\lib\\site-packages\\torchvision\\datasets\\folder.py:144\u001b[0m, in \u001b[0;36mDatasetFolder.__init__\u001b[1;34m(self, root, loader, extensions, transform, target_transform, is_valid_file)\u001b[0m\n\u001b[0;32m    134\u001b[0m \u001b[39mdef\u001b[39;00m \u001b[39m__init__\u001b[39m(\n\u001b[0;32m    135\u001b[0m     \u001b[39mself\u001b[39m,\n\u001b[0;32m    136\u001b[0m     root: \u001b[39mstr\u001b[39m,\n\u001b[1;32m   (...)\u001b[0m\n\u001b[0;32m    141\u001b[0m     is_valid_file: Optional[Callable[[\u001b[39mstr\u001b[39m], \u001b[39mbool\u001b[39m]] \u001b[39m=\u001b[39m \u001b[39mNone\u001b[39;00m,\n\u001b[0;32m    142\u001b[0m ) \u001b[39m-\u001b[39m\u001b[39m>\u001b[39m \u001b[39mNone\u001b[39;00m:\n\u001b[0;32m    143\u001b[0m     \u001b[39msuper\u001b[39m()\u001b[39m.\u001b[39m\u001b[39m__init__\u001b[39m(root, transform\u001b[39m=\u001b[39mtransform, target_transform\u001b[39m=\u001b[39mtarget_transform)\n\u001b[1;32m--> 144\u001b[0m     classes, class_to_idx \u001b[39m=\u001b[39m \u001b[39mself\u001b[39;49m\u001b[39m.\u001b[39;49mfind_classes(\u001b[39mself\u001b[39;49m\u001b[39m.\u001b[39;49mroot)\n\u001b[0;32m    145\u001b[0m     samples \u001b[39m=\u001b[39m \u001b[39mself\u001b[39m\u001b[39m.\u001b[39mmake_dataset(\u001b[39mself\u001b[39m\u001b[39m.\u001b[39mroot, class_to_idx, extensions, is_valid_file)\n\u001b[0;32m    147\u001b[0m     \u001b[39mself\u001b[39m\u001b[39m.\u001b[39mloader \u001b[39m=\u001b[39m loader\n",
      "File \u001b[1;32mc:\\Users\\nikit\\AppData\\Local\\Programs\\Python\\Python310\\lib\\site-packages\\torchvision\\datasets\\folder.py:218\u001b[0m, in \u001b[0;36mDatasetFolder.find_classes\u001b[1;34m(self, directory)\u001b[0m\n\u001b[0;32m    191\u001b[0m \u001b[39mdef\u001b[39;00m \u001b[39mfind_classes\u001b[39m(\u001b[39mself\u001b[39m, directory: \u001b[39mstr\u001b[39m) \u001b[39m-\u001b[39m\u001b[39m>\u001b[39m Tuple[List[\u001b[39mstr\u001b[39m], Dict[\u001b[39mstr\u001b[39m, \u001b[39mint\u001b[39m]]:\n\u001b[0;32m    192\u001b[0m     \u001b[39m\"\"\"Find the class folders in a dataset structured as follows::\u001b[39;00m\n\u001b[0;32m    193\u001b[0m \n\u001b[0;32m    194\u001b[0m \u001b[39m        directory/\u001b[39;00m\n\u001b[1;32m   (...)\u001b[0m\n\u001b[0;32m    216\u001b[0m \u001b[39m        (Tuple[List[str], Dict[str, int]]): List of all classes and dictionary mapping each class to an index.\u001b[39;00m\n\u001b[0;32m    217\u001b[0m \u001b[39m    \"\"\"\u001b[39;00m\n\u001b[1;32m--> 218\u001b[0m     \u001b[39mreturn\u001b[39;00m find_classes(directory)\n",
      "File \u001b[1;32mc:\\Users\\nikit\\AppData\\Local\\Programs\\Python\\Python310\\lib\\site-packages\\torchvision\\datasets\\folder.py:40\u001b[0m, in \u001b[0;36mfind_classes\u001b[1;34m(directory)\u001b[0m\n\u001b[0;32m     35\u001b[0m \u001b[39mdef\u001b[39;00m \u001b[39mfind_classes\u001b[39m(directory: \u001b[39mstr\u001b[39m) \u001b[39m-\u001b[39m\u001b[39m>\u001b[39m Tuple[List[\u001b[39mstr\u001b[39m], Dict[\u001b[39mstr\u001b[39m, \u001b[39mint\u001b[39m]]:\n\u001b[0;32m     36\u001b[0m     \u001b[39m\"\"\"Finds the class folders in a dataset.\u001b[39;00m\n\u001b[0;32m     37\u001b[0m \n\u001b[0;32m     38\u001b[0m \u001b[39m    See :class:`DatasetFolder` for details.\u001b[39;00m\n\u001b[0;32m     39\u001b[0m \u001b[39m    \"\"\"\u001b[39;00m\n\u001b[1;32m---> 40\u001b[0m     classes \u001b[39m=\u001b[39m \u001b[39msorted\u001b[39m(entry\u001b[39m.\u001b[39mname \u001b[39mfor\u001b[39;00m entry \u001b[39min\u001b[39;00m os\u001b[39m.\u001b[39;49mscandir(directory) \u001b[39mif\u001b[39;00m entry\u001b[39m.\u001b[39mis_dir())\n\u001b[0;32m     41\u001b[0m     \u001b[39mif\u001b[39;00m \u001b[39mnot\u001b[39;00m classes:\n\u001b[0;32m     42\u001b[0m         \u001b[39mraise\u001b[39;00m \u001b[39mFileNotFoundError\u001b[39;00m(\u001b[39mf\u001b[39m\u001b[39m\"\u001b[39m\u001b[39mCouldn\u001b[39m\u001b[39m'\u001b[39m\u001b[39mt find any class folder in \u001b[39m\u001b[39m{\u001b[39;00mdirectory\u001b[39m}\u001b[39;00m\u001b[39m.\u001b[39m\u001b[39m\"\u001b[39m)\n",
      "\u001b[1;31mFileNotFoundError\u001b[0m: [WinError 3] Системе не удается найти указанный путь: 'training_set_t'"
     ]
    }
   ],
   "source": [
    "dataset_ = datasets.ImageFolder('training_set_t', transform=transform)\n",
    "N_CLASSES = len(dataset_.classes)\n",
    "classes = dataset_.classes"
   ]
  },
  {
   "cell_type": "code",
   "execution_count": null,
   "metadata": {},
   "outputs": [],
   "source": [
    "train_set, val_set = random_split(dataset_, [0.8, 0.2])\n",
    "trainloader, valloader = DataLoader(train_set, batch_size=64, shuffle=True), DataLoader(val_set, batch_size=64)"
   ]
  },
  {
   "cell_type": "code",
   "execution_count": 9,
   "metadata": {},
   "outputs": [],
   "source": [
    "def test_batch():\n",
    "    for data in valloader:\n",
    "        images, labels = data\n",
    "\n",
    "        outputs = model(images)\n",
    "\n",
    "        _, predicted = torch.max(outputs.data, 1)\n",
    "\n",
    "        for i, r_l, p_l in zip(range(len(images)), labels, predicted):\n",
    "            if True:#r_l == p_l:\n",
    "                imageshow(images[i])\n",
    "                print(f\"REAL: {classes[r_l]}, {r_l}\")\n",
    "                print(f\"PREDICTED: {classes[p_l]}, {p_l}\")\n",
    "        break\n",
    "\n",
    "def test_img(img):\n",
    "    outputs = model(img)\n",
    "    _, predicted = torch.max(outputs.data, 1)\n",
    "    \n",
    "    print(f\"PREDICTED: {classes[predicted[0]]}\")"
   ]
  },
  {
   "cell_type": "code",
   "execution_count": 10,
   "metadata": {},
   "outputs": [
    {
     "ename": "NameError",
     "evalue": "name 'Image' is not defined",
     "output_type": "error",
     "traceback": [
      "\u001b[1;31m---------------------------------------------------------------------------\u001b[0m",
      "\u001b[1;31mNameError\u001b[0m                                 Traceback (most recent call last)",
      "Cell \u001b[1;32mIn[10], line 3\u001b[0m\n\u001b[0;32m      1\u001b[0m \u001b[39mfor\u001b[39;00m _,_, files \u001b[39min\u001b[39;00m os\u001b[39m.\u001b[39mwalk(\u001b[39m'\u001b[39m\u001b[39m./test_set/\u001b[39m\u001b[39m'\u001b[39m):\n\u001b[0;32m      2\u001b[0m     \u001b[39mfor\u001b[39;00m filename \u001b[39min\u001b[39;00m files:\n\u001b[1;32m----> 3\u001b[0m         img \u001b[39m=\u001b[39m Image\u001b[39m.\u001b[39mopen(\u001b[39mf\u001b[39m\u001b[39m'\u001b[39m\u001b[39m./test_set/\u001b[39m\u001b[39m{\u001b[39;00mfilename\u001b[39m}\u001b[39;00m\u001b[39m'\u001b[39m)\n\u001b[0;32m      4\u001b[0m         img \u001b[39m=\u001b[39m transform(img)\n\u001b[0;32m      5\u001b[0m         img \u001b[39m=\u001b[39m img[\u001b[39mNone\u001b[39;00m,:]\n",
      "\u001b[1;31mNameError\u001b[0m: name 'Image' is not defined"
     ]
    }
   ],
   "source": [
    "for _,_, files in os.walk('./test_set/'):\n",
    "    for filename in files:\n",
    "        img = Image.open(f'./test_set/{filename}')\n",
    "        img = transform(img)\n",
    "        img = img[None,:]\n",
    "        \n",
    "        imageshow(img)\n",
    "        print(f\"REAL NAME: {filename}\")\n",
    "        test_img(img)"
   ]
  },
  {
   "cell_type": "code",
   "execution_count": null,
   "metadata": {},
   "outputs": [],
   "source": []
  }
 ],
 "metadata": {
  "kernelspec": {
   "display_name": "Python 3.10.5 64-bit",
   "language": "python",
   "name": "python3"
  },
  "language_info": {
   "codemirror_mode": {
    "name": "ipython",
    "version": 3
   },
   "file_extension": ".py",
   "mimetype": "text/x-python",
   "name": "python",
   "nbconvert_exporter": "python",
   "pygments_lexer": "ipython3",
   "version": "3.10.5"
  },
  "orig_nbformat": 4,
  "vscode": {
   "interpreter": {
    "hash": "e7d4d1fdefab968d87dae697830712be305784682ed311731942beb8000e292d"
   }
  }
 },
 "nbformat": 4,
 "nbformat_minor": 2
}
